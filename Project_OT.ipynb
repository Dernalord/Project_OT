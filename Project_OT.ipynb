{
 "cells": [
  {
   "cell_type": "markdown",
   "metadata": {},
   "source": [
    "# IMPORT"
   ]
  },
  {
   "cell_type": "code",
   "execution_count": 1,
   "metadata": {},
   "outputs": [],
   "source": [
    "from scipy.io import loadmat\n",
    "import numpy as np\n",
    "from sklearn.decomposition import PCA\n",
    "from sklearn.neighbors import KNeighborsClassifier\n",
    "from sklearn.preprocessing import StandardScaler\n",
    "import time"
   ]
  },
  {
   "cell_type": "markdown",
   "metadata": {},
   "source": [
    "## Surf"
   ]
  },
  {
   "cell_type": "code",
   "execution_count": 2,
   "metadata": {},
   "outputs": [],
   "source": [
    "#Amazon\n",
    "A_surf = loadmat('surf/amazon.mat')\n",
    "X_a_surf = A_surf['fts']\n",
    "Y_a_surf = A_surf['labels']\n",
    "\n",
    "#Caltech\n",
    "C_surf = loadmat('surf/caltech10.mat')\n",
    "X_c_surf = C_surf['fts']\n",
    "Y_c_surf = C_surf['labels']\n",
    "\n",
    "# Webcam\n",
    "W_surf = loadmat('surf/webcam.mat')\n",
    "X_w_surf = W_surf['fts']\n",
    "Y_w_surf = W_surf['labels']\n",
    "\n",
    "# Dslr\n",
    "D_surf = loadmat('surf/dslr.mat')\n",
    "X_d_surf = D_surf['fts']\n",
    "Y_d_surf = D_surf['labels']\n"
   ]
  },
  {
   "cell_type": "code",
   "execution_count": 3,
   "metadata": {},
   "outputs": [
    {
     "name": "stdout",
     "output_type": "stream",
     "text": [
      "(295, 800)\n",
      "(295, 1)\n",
      "(157, 800)\n",
      "(157, 1)\n"
     ]
    }
   ],
   "source": [
    "print(X_w_surf.shape)\n",
    "print(Y_w_surf.shape)\n",
    "print(X_d_surf.shape)\n",
    "print(Y_d_surf.shape)"
   ]
  },
  {
   "cell_type": "markdown",
   "metadata": {},
   "source": [
    "# Subspace Alignement"
   ]
  },
  {
   "cell_type": "markdown",
   "metadata": {},
   "source": [
    "## Without optimal transport"
   ]
  },
  {
   "cell_type": "code",
   "execution_count": 4,
   "metadata": {},
   "outputs": [
    {
     "name": "stdout",
     "output_type": "stream",
     "text": [
      "The accuracy is 56.05095541401274%\n"
     ]
    }
   ],
   "source": [
    "knn = KNeighborsClassifier(n_neighbors=1)\n",
    "knn.fit(X_w_surf, Y_w_surf.ravel())\n",
    "print(\"The accuracy is \"+str(knn.score(X_d_surf, Y_d_surf)*100)+\"%\")"
   ]
  },
  {
   "cell_type": "markdown",
   "metadata": {},
   "source": [
    "## With optimal transport"
   ]
  },
  {
   "cell_type": "code",
   "execution_count": 11,
   "metadata": {},
   "outputs": [],
   "source": [
    "def subspace_alignment(S,S_y,T,T_y):\n",
    "    #Normalization\n",
    "    scaler = StandardScaler()\n",
    "    S=scaler.fit_transform(S)\n",
    "    T=scaler.fit_transform(T)\n",
    "\n",
    "    max_d=min([S.shape[0],S.shape[1],T.shape[0]])\n",
    "    \n",
    "    for d in range(1,max_d+1):\n",
    "        pca = PCA(n_components=d)\n",
    "        \n",
    "        pca.fit(S)\n",
    "        Xs=pca.components_.T\n",
    "        \n",
    "        pca.fit(T)\n",
    "        Xt=pca.components_.T\n",
    "        \n",
    "        Xa=Xs@Xs.T@Xt\n",
    "        Sa=S@Xa\n",
    "        St=T@Xt\n",
    "\n",
    "        knn = KNeighborsClassifier(n_neighbors=1)\n",
    "        knn.fit(Sa, S_y.ravel())\n",
    "        print(\"The accuracy with \"+str(d)+\" components is \"+str(knn.score(St, T_y)*100)+\"%\")"
   ]
  },
  {
   "cell_type": "code",
   "execution_count": 12,
   "metadata": {},
   "outputs": [
    {
     "name": "stdout",
     "output_type": "stream",
     "text": [
      "The accuracy with 1 components is 24.203821656050955%\n",
      "The accuracy with 2 components is 29.936305732484076%\n",
      "The accuracy with 3 components is 31.84713375796178%\n",
      "The accuracy with 4 components is 46.496815286624205%\n",
      "The accuracy with 5 components is 57.324840764331206%\n",
      "The accuracy with 6 components is 62.42038216560509%\n",
      "The accuracy with 7 components is 59.23566878980891%\n",
      "The accuracy with 8 components is 62.42038216560509%\n",
      "The accuracy with 9 components is 72.61146496815286%\n",
      "The accuracy with 10 components is 71.3375796178344%\n",
      "The accuracy with 11 components is 70.70063694267516%\n",
      "The accuracy with 12 components is 68.78980891719745%\n",
      "The accuracy with 13 components is 70.70063694267516%\n",
      "The accuracy with 14 components is 73.88535031847134%\n",
      "The accuracy with 15 components is 75.79617834394905%\n",
      "The accuracy with 16 components is 77.07006369426752%\n",
      "The accuracy with 17 components is 73.24840764331209%\n",
      "The accuracy with 18 components is 78.98089171974523%\n",
      "The accuracy with 19 components is 75.15923566878982%\n",
      "The accuracy with 20 components is 78.343949044586%\n",
      "The accuracy with 21 components is 76.43312101910828%\n",
      "The accuracy with 22 components is 78.343949044586%\n",
      "The accuracy with 23 components is 81.52866242038218%\n",
      "The accuracy with 24 components is 80.89171974522293%\n",
      "The accuracy with 25 components is 83.43949044585987%\n",
      "The accuracy with 26 components is 84.71337579617835%\n",
      "The accuracy with 27 components is 82.16560509554141%\n",
      "The accuracy with 28 components is 82.16560509554141%\n",
      "The accuracy with 29 components is 82.16560509554141%\n",
      "The accuracy with 30 components is 81.52866242038218%\n",
      "The accuracy with 31 components is 82.80254777070064%\n",
      "The accuracy with 32 components is 83.43949044585987%\n",
      "The accuracy with 33 components is 82.16560509554141%\n",
      "The accuracy with 34 components is 84.07643312101911%\n",
      "The accuracy with 35 components is 81.52866242038218%\n",
      "The accuracy with 36 components is 84.07643312101911%\n",
      "The accuracy with 37 components is 85.35031847133759%\n",
      "The accuracy with 38 components is 84.07643312101911%\n",
      "The accuracy with 39 components is 83.43949044585987%\n",
      "The accuracy with 40 components is 87.26114649681529%\n",
      "The accuracy with 41 components is 86.62420382165605%\n",
      "The accuracy with 42 components is 82.16560509554141%\n",
      "The accuracy with 43 components is 84.07643312101911%\n",
      "The accuracy with 44 components is 82.16560509554141%\n",
      "The accuracy with 45 components is 88.53503184713377%\n",
      "The accuracy with 46 components is 83.43949044585987%\n",
      "The accuracy with 47 components is 89.171974522293%\n",
      "The accuracy with 48 components is 86.62420382165605%\n",
      "The accuracy with 49 components is 88.53503184713377%\n",
      "The accuracy with 50 components is 87.26114649681529%\n",
      "The accuracy with 51 components is 90.44585987261146%\n",
      "The accuracy with 52 components is 89.80891719745223%\n",
      "The accuracy with 53 components is 88.53503184713377%\n",
      "The accuracy with 54 components is 88.53503184713377%\n",
      "The accuracy with 55 components is 88.53503184713377%\n",
      "The accuracy with 56 components is 90.44585987261146%\n",
      "The accuracy with 57 components is 88.53503184713377%\n",
      "The accuracy with 58 components is 89.171974522293%\n",
      "The accuracy with 59 components is 92.99363057324841%\n",
      "The accuracy with 60 components is 91.0828025477707%\n",
      "The accuracy with 61 components is 89.80891719745223%\n",
      "The accuracy with 62 components is 87.26114649681529%\n",
      "The accuracy with 63 components is 91.0828025477707%\n",
      "The accuracy with 64 components is 89.171974522293%\n",
      "The accuracy with 65 components is 89.80891719745223%\n",
      "The accuracy with 66 components is 89.80891719745223%\n",
      "The accuracy with 67 components is 91.71974522292994%\n",
      "The accuracy with 68 components is 90.44585987261146%\n",
      "The accuracy with 69 components is 91.71974522292994%\n",
      "The accuracy with 70 components is 91.71974522292994%\n",
      "The accuracy with 71 components is 90.44585987261146%\n",
      "The accuracy with 72 components is 91.71974522292994%\n",
      "The accuracy with 73 components is 92.35668789808918%\n",
      "The accuracy with 74 components is 90.44585987261146%\n",
      "The accuracy with 75 components is 91.0828025477707%\n",
      "The accuracy with 76 components is 89.171974522293%\n",
      "The accuracy with 77 components is 89.171974522293%\n",
      "The accuracy with 78 components is 90.44585987261146%\n",
      "The accuracy with 79 components is 90.44585987261146%\n",
      "The accuracy with 80 components is 89.171974522293%\n",
      "The accuracy with 81 components is 91.71974522292994%\n",
      "The accuracy with 82 components is 89.171974522293%\n",
      "The accuracy with 83 components is 92.35668789808918%\n",
      "The accuracy with 84 components is 92.35668789808918%\n",
      "The accuracy with 85 components is 89.80891719745223%\n",
      "The accuracy with 86 components is 89.80891719745223%\n",
      "The accuracy with 87 components is 88.53503184713377%\n",
      "The accuracy with 88 components is 90.44585987261146%\n",
      "The accuracy with 89 components is 91.0828025477707%\n",
      "The accuracy with 90 components is 92.35668789808918%\n",
      "The accuracy with 91 components is 90.44585987261146%\n",
      "The accuracy with 92 components is 91.71974522292994%\n",
      "The accuracy with 93 components is 88.53503184713377%\n",
      "The accuracy with 94 components is 91.0828025477707%\n",
      "The accuracy with 95 components is 89.80891719745223%\n",
      "The accuracy with 96 components is 89.171974522293%\n",
      "The accuracy with 97 components is 86.62420382165605%\n",
      "The accuracy with 98 components is 89.171974522293%\n",
      "The accuracy with 99 components is 87.26114649681529%\n",
      "The accuracy with 100 components is 89.80891719745223%\n",
      "The accuracy with 101 components is 87.89808917197452%\n",
      "The accuracy with 102 components is 87.89808917197452%\n",
      "The accuracy with 103 components is 90.44585987261146%\n",
      "The accuracy with 104 components is 89.171974522293%\n",
      "The accuracy with 105 components is 88.53503184713377%\n",
      "The accuracy with 106 components is 91.0828025477707%\n",
      "The accuracy with 107 components is 87.89808917197452%\n",
      "The accuracy with 108 components is 92.35668789808918%\n",
      "The accuracy with 109 components is 89.171974522293%\n",
      "The accuracy with 110 components is 89.80891719745223%\n",
      "The accuracy with 111 components is 91.0828025477707%\n",
      "The accuracy with 112 components is 89.171974522293%\n",
      "The accuracy with 113 components is 91.71974522292994%\n",
      "The accuracy with 114 components is 90.44585987261146%\n",
      "The accuracy with 115 components is 91.0828025477707%\n",
      "The accuracy with 116 components is 88.53503184713377%\n",
      "The accuracy with 117 components is 87.26114649681529%\n",
      "The accuracy with 118 components is 91.0828025477707%\n",
      "The accuracy with 119 components is 88.53503184713377%\n",
      "The accuracy with 120 components is 90.44585987261146%\n",
      "The accuracy with 121 components is 88.53503184713377%\n",
      "The accuracy with 122 components is 89.80891719745223%\n",
      "The accuracy with 123 components is 89.171974522293%\n",
      "The accuracy with 124 components is 89.171974522293%\n",
      "The accuracy with 125 components is 89.80891719745223%\n",
      "The accuracy with 126 components is 89.171974522293%\n",
      "The accuracy with 127 components is 88.53503184713377%\n",
      "The accuracy with 128 components is 87.89808917197452%\n",
      "The accuracy with 129 components is 87.89808917197452%\n",
      "The accuracy with 130 components is 88.53503184713377%\n",
      "The accuracy with 131 components is 89.171974522293%\n",
      "The accuracy with 132 components is 89.80891719745223%\n",
      "The accuracy with 133 components is 89.171974522293%\n",
      "The accuracy with 134 components is 87.89808917197452%\n",
      "The accuracy with 135 components is 88.53503184713377%\n",
      "The accuracy with 136 components is 87.89808917197452%\n",
      "The accuracy with 137 components is 89.171974522293%\n",
      "The accuracy with 138 components is 87.89808917197452%\n",
      "The accuracy with 139 components is 88.53503184713377%\n",
      "The accuracy with 140 components is 88.53503184713377%\n",
      "The accuracy with 141 components is 89.171974522293%\n",
      "The accuracy with 142 components is 87.26114649681529%\n",
      "The accuracy with 143 components is 89.171974522293%\n",
      "The accuracy with 144 components is 90.44585987261146%\n",
      "The accuracy with 145 components is 87.26114649681529%\n",
      "The accuracy with 146 components is 89.171974522293%\n",
      "The accuracy with 147 components is 89.80891719745223%\n",
      "The accuracy with 148 components is 89.80891719745223%\n",
      "The accuracy with 149 components is 89.80891719745223%\n",
      "The accuracy with 150 components is 89.171974522293%\n",
      "The accuracy with 151 components is 86.62420382165605%\n",
      "The accuracy with 152 components is 87.26114649681529%\n",
      "The accuracy with 153 components is 87.26114649681529%\n",
      "The accuracy with 154 components is 87.26114649681529%\n",
      "The accuracy with 155 components is 88.53503184713377%\n",
      "The accuracy with 156 components is 86.62420382165605%\n",
      "The accuracy with 157 components is 86.62420382165605%\n"
     ]
    }
   ],
   "source": [
    "subspace_alignment(X_w_surf,Y_w_surf,X_d_surf,Y_d_surf)"
   ]
  },
  {
   "cell_type": "markdown",
   "metadata": {},
   "source": [
    "# Entropic regularized optimal transport"
   ]
  },
  {
   "cell_type": "markdown",
   "metadata": {},
   "source": [
    "## Without optimal transport"
   ]
  },
  {
   "cell_type": "code",
   "execution_count": null,
   "metadata": {},
   "outputs": [],
   "source": []
  },
  {
   "cell_type": "markdown",
   "metadata": {},
   "source": [
    "## With optimal transport"
   ]
  },
  {
   "cell_type": "code",
   "execution_count": null,
   "metadata": {},
   "outputs": [],
   "source": []
  }
 ],
 "metadata": {
  "kernelspec": {
   "display_name": "Python 3 (ipykernel)",
   "language": "python",
   "name": "python3"
  },
  "language_info": {
   "codemirror_mode": {
    "name": "ipython",
    "version": 3
   },
   "file_extension": ".py",
   "mimetype": "text/x-python",
   "name": "python",
   "nbconvert_exporter": "python",
   "pygments_lexer": "ipython3",
   "version": "3.8.5"
  }
 },
 "nbformat": 4,
 "nbformat_minor": 4
}
