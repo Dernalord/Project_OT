{
 "cells": [
  {
   "cell_type": "markdown",
   "metadata": {},
   "source": [
    "# IMPORT"
   ]
  },
  {
   "cell_type": "code",
   "execution_count": 14,
   "metadata": {},
   "outputs": [],
   "source": [
    "from scipy.io import loadmat\n",
    "import numpy as np\n",
    "from sklearn.decomposition import PCA\n",
    "from sklearn.neighbors import KNeighborsClassifier\n",
    "from sklearn.preprocessing import StandardScaler\n",
    "import time"
   ]
  },
  {
   "cell_type": "markdown",
   "metadata": {},
   "source": [
    "## Surf"
   ]
  },
  {
   "cell_type": "code",
   "execution_count": 2,
   "metadata": {},
   "outputs": [],
   "source": [
    "#Amazon\n",
    "A_surf = loadmat('surf/amazon.mat')\n",
    "X_a_surf = A_surf['fts']\n",
    "Y_a_surf = A_surf['labels']\n",
    "\n",
    "#Caltech\n",
    "C_surf = loadmat('surf/caltech10.mat')\n",
    "X_c_surf = C_surf['fts']\n",
    "Y_c_surf = C_surf['labels']\n",
    "\n",
    "# Webcam\n",
    "W_surf = loadmat('surf/webcam.mat')\n",
    "X_w_surf = W_surf['fts']\n",
    "Y_w_surf = W_surf['labels']\n",
    "\n",
    "# Dslr\n",
    "D_surf = loadmat('surf/dslr.mat')\n",
    "X_d_surf = D_surf['fts']\n",
    "Y_d_surf = D_surf['labels']\n"
   ]
  },
  {
   "cell_type": "code",
   "execution_count": 3,
   "metadata": {},
   "outputs": [
    {
     "name": "stdout",
     "output_type": "stream",
     "text": [
      "(295, 800)\n",
      "(295, 1)\n",
      "(157, 800)\n",
      "(157, 1)\n"
     ]
    }
   ],
   "source": [
    "print(X_w_surf.shape)\n",
    "print(Y_w_surf.shape)\n",
    "print(X_d_surf.shape)\n",
    "print(Y_d_surf.shape)"
   ]
  },
  {
   "cell_type": "markdown",
   "metadata": {},
   "source": [
    "# Subspace Alignement"
   ]
  },
  {
   "cell_type": "markdown",
   "metadata": {},
   "source": [
    "## Without optimal transport"
   ]
  },
  {
   "cell_type": "code",
   "execution_count": 7,
   "metadata": {},
   "outputs": [
    {
     "name": "stdout",
     "output_type": "stream",
     "text": [
      "0.5605095541401274\n"
     ]
    }
   ],
   "source": [
    "knn = KNeighborsClassifier(n_neighbors=1)\n",
    "knn.fit(X_w_surf, Y_w_surf.ravel())\n",
    "print(knn.score(X_d_surf, Y_d_surf))"
   ]
  },
  {
   "cell_type": "markdown",
   "metadata": {},
   "source": [
    "## With optimal transport"
   ]
  },
  {
   "cell_type": "code",
   "execution_count": 46,
   "metadata": {},
   "outputs": [],
   "source": [
    "def sub_subspace_alignment(S,T):\n",
    "    #Normalization\n",
    "    scaler = StandardScaler()\n",
    "    S=scaler.fit_transform(S)\n",
    "    T=scaler.fit_transform(T)\n",
    "\n",
    "    for d in range(1,S.shape[1]):\n",
    "        pca = PCA(n_components=d)\n",
    "        \n",
    "        pca.fit(S)\n",
    "        Xs=pca.components_.T\n",
    "        \n",
    "        pca.fit(T)\n",
    "        Xt=pca.components_.T\n",
    "        \n",
    "        Xa=Xs@Xs.T@Xt\n",
    "        Sa=S@Xa\n",
    "        St=T@Xt"
   ]
  },
  {
   "cell_type": "code",
   "execution_count": null,
   "metadata": {},
   "outputs": [],
   "source": [
    "sub_subspace_alignment(X_w_surf,X_d_surf)"
   ]
  },
  {
   "cell_type": "markdown",
   "metadata": {},
   "source": [
    "# Entropic regularized optimal transport"
   ]
  },
  {
   "cell_type": "markdown",
   "metadata": {},
   "source": [
    "## Without optimal transport"
   ]
  },
  {
   "cell_type": "code",
   "execution_count": null,
   "metadata": {},
   "outputs": [],
   "source": []
  },
  {
   "cell_type": "markdown",
   "metadata": {},
   "source": [
    "## With optimal transport"
   ]
  },
  {
   "cell_type": "code",
   "execution_count": null,
   "metadata": {},
   "outputs": [],
   "source": []
  }
 ],
 "metadata": {
  "kernelspec": {
   "display_name": "Python 3 (ipykernel)",
   "language": "python",
   "name": "python3"
  },
  "language_info": {
   "codemirror_mode": {
    "name": "ipython",
    "version": 3
   },
   "file_extension": ".py",
   "mimetype": "text/x-python",
   "name": "python",
   "nbconvert_exporter": "python",
   "pygments_lexer": "ipython3",
   "version": "3.8.5"
  }
 },
 "nbformat": 4,
 "nbformat_minor": 4
}
